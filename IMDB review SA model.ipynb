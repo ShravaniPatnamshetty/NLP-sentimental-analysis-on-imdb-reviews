{
 "cells": [
  {
   "cell_type": "markdown",
   "id": "c783e6d2",
   "metadata": {},
   "source": [
    "# importing the libraries"
   ]
  },
  {
   "cell_type": "code",
   "execution_count": 1,
   "id": "12e18a17",
   "metadata": {},
   "outputs": [],
   "source": [
    "import pandas as pd\n",
    "import tensorflow as tf\n",
    "from tensorflow import keras\n",
    "from tensorflow.keras.preprocessing.text import Tokenizer\n",
    "from tensorflow.keras.preprocessing.sequence import pad_sequences"
   ]
  },
  {
   "cell_type": "markdown",
   "id": "c3e157eb",
   "metadata": {},
   "source": [
    "# loading data"
   ]
  },
  {
   "cell_type": "code",
   "execution_count": 3,
   "id": "75420129",
   "metadata": {},
   "outputs": [],
   "source": [
    "X_train_full=pd.read_csv(\"Train.csv\")\n",
    "X_valid_full=pd.read_csv(\"Valid.csv\")\n",
    "X_test_full=pd.read_csv(\"Test.csv\")"
   ]
  },
  {
   "cell_type": "markdown",
   "id": "9170f2f5",
   "metadata": {},
   "source": [
    "# splitting the data"
   ]
  },
  {
   "cell_type": "code",
   "execution_count": 7,
   "id": "bc2ceb8e",
   "metadata": {},
   "outputs": [],
   "source": [
    "X_train=X_train_full['text']\n",
    "y_train=X_train_full['label']\n",
    "\n",
    "X_valid=X_valid_full['text']\n",
    "y_valid=X_valid_full['label']\n",
    "\n",
    "X_test=X_test_full['text']\n",
    "y_test=X_test_full['label']"
   ]
  },
  {
   "cell_type": "markdown",
   "id": "b2edef78",
   "metadata": {},
   "source": [
    "# preprocessing the data"
   ]
  },
  {
   "cell_type": "code",
   "execution_count": 8,
   "id": "684fe682",
   "metadata": {},
   "outputs": [],
   "source": [
    "tokens=Tokenizer(num_words=20000, oov_token=\"<OOV>\")\n",
    "tokens.fit_on_texts(X_train)\n",
    "\n",
    "X_train_seq=tokens.texts_to_sequences(X_train)\n",
    "X_train_pad=pad_sequences(X_train_seq, maxlen=250, padding=\"post\", truncating=\"post\")\n",
    "\n",
    "X_valid_seq=tokens.texts_to_sequences(X_valid)\n",
    "X_valid_pad=pad_sequences(X_valid_seq, maxlen=250, padding=\"post\", truncating=\"post\")\n",
    "\n",
    "X_test_seq=tokens.texts_to_sequences(X_test)\n",
    "X_test_pad=pad_sequences(X_test_seq, maxlen=250, padding=\"post\", truncating=\"post\")\n"
   ]
  },
  {
   "cell_type": "code",
   "execution_count": 9,
   "id": "bfa3b828",
   "metadata": {},
   "outputs": [
    {
     "data": {
      "text/plain": [
       "numpy.ndarray"
      ]
     },
     "execution_count": 9,
     "metadata": {},
     "output_type": "execute_result"
    }
   ],
   "source": [
    "type(X_train_pad)"
   ]
  },
  {
   "cell_type": "code",
   "execution_count": 10,
   "id": "bf359f10",
   "metadata": {},
   "outputs": [
    {
     "data": {
      "text/plain": [
       "pandas.core.series.Series"
      ]
     },
     "execution_count": 10,
     "metadata": {},
     "output_type": "execute_result"
    }
   ],
   "source": [
    "type(y_train)"
   ]
  },
  {
   "cell_type": "code",
   "execution_count": 12,
   "id": "71204aeb",
   "metadata": {},
   "outputs": [],
   "source": [
    "# ##converting the y_series into a numpy array\n",
    "import numpy as np\n",
    "\n",
    "y_train_array=np.array(y_train)\n",
    "y_valid_array=np.array(y_valid)\n",
    "y_test_array=np.array(y_test)"
   ]
  },
  {
   "cell_type": "markdown",
   "id": "49956891",
   "metadata": {},
   "source": [
    "# model making"
   ]
  },
  {
   "cell_type": "code",
   "execution_count": 13,
   "id": "ef8b812f",
   "metadata": {},
   "outputs": [],
   "source": [
    "model=tf.keras.Sequential([\n",
    "    tf.keras.layers.Embedding(20000,16,input_length=250),\n",
    "    tf.keras.layers.GlobalAveragePooling1D(),\n",
    "    \n",
    "    tf.keras.layers.Dense(20, activation='relu'),\n",
    "    tf.keras.layers.Dense(1, activation='sigmoid')\n",
    "])\n",
    "model.compile(loss='binary_crossentropy', optimizer='adam', metrics=['accuracy'])"
   ]
  },
  {
   "cell_type": "code",
   "execution_count": 15,
   "id": "7a20f970",
   "metadata": {},
   "outputs": [
    {
     "name": "stdout",
     "output_type": "stream",
     "text": [
      "Model: \"sequential\"\n",
      "_________________________________________________________________\n",
      " Layer (type)                Output Shape              Param #   \n",
      "=================================================================\n",
      " embedding (Embedding)       (None, 250, 16)           320000    \n",
      "                                                                 \n",
      " global_average_pooling1d (G  (None, 16)               0         \n",
      " lobalAveragePooling1D)                                          \n",
      "                                                                 \n",
      " dense (Dense)               (None, 20)                340       \n",
      "                                                                 \n",
      " dense_1 (Dense)             (None, 1)                 21        \n",
      "                                                                 \n",
      "=================================================================\n",
      "Total params: 320,361\n",
      "Trainable params: 320,361\n",
      "Non-trainable params: 0\n",
      "_________________________________________________________________\n"
     ]
    }
   ],
   "source": [
    "model.summary()"
   ]
  },
  {
   "cell_type": "code",
   "execution_count": 14,
   "id": "3651f594",
   "metadata": {
    "scrolled": true
   },
   "outputs": [
    {
     "name": "stdout",
     "output_type": "stream",
     "text": [
      "Epoch 1/30\n",
      "1250/1250 [==============================] - 11s 8ms/step - loss: 0.4329 - accuracy: 0.8097 - val_loss: 0.2975 - val_accuracy: 0.8778\n",
      "Epoch 2/30\n",
      "1250/1250 [==============================] - 10s 8ms/step - loss: 0.2366 - accuracy: 0.9090 - val_loss: 0.2745 - val_accuracy: 0.8882\n",
      "Epoch 3/30\n",
      "1250/1250 [==============================] - 10s 8ms/step - loss: 0.1865 - accuracy: 0.9319 - val_loss: 0.2826 - val_accuracy: 0.8860\n",
      "Epoch 4/30\n",
      "1250/1250 [==============================] - 11s 9ms/step - loss: 0.1530 - accuracy: 0.9463 - val_loss: 0.2965 - val_accuracy: 0.8868\n",
      "Epoch 5/30\n",
      "1250/1250 [==============================] - 9s 7ms/step - loss: 0.1280 - accuracy: 0.9560 - val_loss: 0.3224 - val_accuracy: 0.8790\n",
      "Epoch 6/30\n",
      "1250/1250 [==============================] - 9s 7ms/step - loss: 0.1073 - accuracy: 0.9640 - val_loss: 0.3521 - val_accuracy: 0.8776\n",
      "Epoch 7/30\n",
      "1250/1250 [==============================] - 9s 7ms/step - loss: 0.0897 - accuracy: 0.9711 - val_loss: 0.3860 - val_accuracy: 0.8764\n",
      "Epoch 8/30\n",
      "1250/1250 [==============================] - 10s 8ms/step - loss: 0.0757 - accuracy: 0.9764 - val_loss: 0.4287 - val_accuracy: 0.8746\n",
      "Epoch 9/30\n",
      "1250/1250 [==============================] - 10s 8ms/step - loss: 0.0633 - accuracy: 0.9813 - val_loss: 0.4862 - val_accuracy: 0.8698\n",
      "Epoch 10/30\n",
      "1250/1250 [==============================] - 9s 7ms/step - loss: 0.0529 - accuracy: 0.9855 - val_loss: 0.5156 - val_accuracy: 0.8668\n",
      "Epoch 11/30\n",
      "1250/1250 [==============================] - 9s 7ms/step - loss: 0.0447 - accuracy: 0.9881 - val_loss: 0.5662 - val_accuracy: 0.8664\n",
      "Epoch 12/30\n",
      "1250/1250 [==============================] - 9s 7ms/step - loss: 0.0370 - accuracy: 0.9900 - val_loss: 0.6167 - val_accuracy: 0.8654\n",
      "Epoch 13/30\n",
      "1250/1250 [==============================] - 11s 9ms/step - loss: 0.0298 - accuracy: 0.9923 - val_loss: 0.6726 - val_accuracy: 0.8612\n",
      "Epoch 14/30\n",
      "1250/1250 [==============================] - 9s 7ms/step - loss: 0.0251 - accuracy: 0.9936 - val_loss: 0.7247 - val_accuracy: 0.8618\n",
      "Epoch 15/30\n",
      "1250/1250 [==============================] - 9s 7ms/step - loss: 0.0207 - accuracy: 0.9945 - val_loss: 0.8047 - val_accuracy: 0.8580\n",
      "Epoch 16/30\n",
      "1250/1250 [==============================] - 10s 8ms/step - loss: 0.0173 - accuracy: 0.9955 - val_loss: 0.8563 - val_accuracy: 0.8598\n",
      "Epoch 17/30\n",
      "1250/1250 [==============================] - 9s 8ms/step - loss: 0.0143 - accuracy: 0.9962 - val_loss: 0.9372 - val_accuracy: 0.8590\n",
      "Epoch 18/30\n",
      "1250/1250 [==============================] - 9s 8ms/step - loss: 0.0138 - accuracy: 0.9963 - val_loss: 1.0098 - val_accuracy: 0.8542\n",
      "Epoch 19/30\n",
      "1250/1250 [==============================] - 9s 7ms/step - loss: 0.0114 - accuracy: 0.9969 - val_loss: 1.0540 - val_accuracy: 0.8544\n",
      "Epoch 20/30\n",
      "1250/1250 [==============================] - 8s 7ms/step - loss: 0.0086 - accuracy: 0.9978 - val_loss: 1.1042 - val_accuracy: 0.8534\n",
      "Epoch 21/30\n",
      "1250/1250 [==============================] - 9s 7ms/step - loss: 0.0074 - accuracy: 0.9978 - val_loss: 1.1567 - val_accuracy: 0.8526\n",
      "Epoch 22/30\n",
      "1250/1250 [==============================] - 11s 9ms/step - loss: 0.0063 - accuracy: 0.9982 - val_loss: 1.2413 - val_accuracy: 0.8534\n",
      "Epoch 23/30\n",
      "1250/1250 [==============================] - 11s 9ms/step - loss: 0.0067 - accuracy: 0.9981 - val_loss: 1.2728 - val_accuracy: 0.8522\n",
      "Epoch 24/30\n",
      "1250/1250 [==============================] - 11s 9ms/step - loss: 0.0062 - accuracy: 0.9981 - val_loss: 1.3443 - val_accuracy: 0.8524\n",
      "Epoch 25/30\n",
      "1250/1250 [==============================] - 13s 10ms/step - loss: 0.0064 - accuracy: 0.9980 - val_loss: 1.3910 - val_accuracy: 0.8504\n",
      "Epoch 26/30\n",
      "1250/1250 [==============================] - 11s 9ms/step - loss: 0.0054 - accuracy: 0.9981 - val_loss: 1.4268 - val_accuracy: 0.8478\n",
      "Epoch 27/30\n",
      "1250/1250 [==============================] - 11s 9ms/step - loss: 0.0036 - accuracy: 0.9991 - val_loss: 1.4475 - val_accuracy: 0.8492\n",
      "Epoch 28/30\n",
      "1250/1250 [==============================] - 10s 8ms/step - loss: 0.0034 - accuracy: 0.9991 - val_loss: 1.5011 - val_accuracy: 0.8508\n",
      "Epoch 29/30\n",
      "1250/1250 [==============================] - 10s 8ms/step - loss: 0.0076 - accuracy: 0.9973 - val_loss: 1.5056 - val_accuracy: 0.8476\n",
      "Epoch 30/30\n",
      "1250/1250 [==============================] - 10s 8ms/step - loss: 0.0088 - accuracy: 0.9970 - val_loss: 1.5083 - val_accuracy: 0.8504\n"
     ]
    }
   ],
   "source": [
    "history=model.fit(X_train_pad,y_train_array,epochs=30,\n",
    "                 validation_data=(X_valid_pad,y_valid_array))"
   ]
  },
  {
   "cell_type": "markdown",
   "id": "e2e9e794",
   "metadata": {},
   "source": [
    "# predicting the new instances"
   ]
  },
  {
   "cell_type": "code",
   "execution_count": 17,
   "id": "53512e4e",
   "metadata": {},
   "outputs": [],
   "source": [
    "sentence=['the movie was fantastic']\n",
    "sequence=tokens.texts_to_sequences(sentence)\n",
    "padded=pad_sequences(sequence,maxlen=250,padding=\"post\")"
   ]
  },
  {
   "cell_type": "code",
   "execution_count": 18,
   "id": "a015d31f",
   "metadata": {},
   "outputs": [
    {
     "data": {
      "text/plain": [
       "array([[0.9889481]], dtype=float32)"
      ]
     },
     "execution_count": 18,
     "metadata": {},
     "output_type": "execute_result"
    }
   ],
   "source": [
    "model.predict(padded)"
   ]
  },
  {
   "cell_type": "code",
   "execution_count": null,
   "id": "1eb334dd",
   "metadata": {},
   "outputs": [],
   "source": []
  }
 ],
 "metadata": {
  "kernelspec": {
   "display_name": "Python 3",
   "language": "python",
   "name": "python3"
  },
  "language_info": {
   "codemirror_mode": {
    "name": "ipython",
    "version": 3
   },
   "file_extension": ".py",
   "mimetype": "text/x-python",
   "name": "python",
   "nbconvert_exporter": "python",
   "pygments_lexer": "ipython3",
   "version": "3.8.8"
  }
 },
 "nbformat": 4,
 "nbformat_minor": 5
}
